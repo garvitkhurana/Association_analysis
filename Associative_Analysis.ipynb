{
 "cells": [
  {
   "cell_type": "markdown",
   "metadata": {},
   "source": [
    "# DM_05_Associative_Analysis\n",
    "## Install and Load Packages\n",
    "\n",
    "We'll use the \"apriori\" package for this demonstration. This package isn't installed with the default Anaconda distribution, so you'll first need to first go to your command line and run this command:\n",
    "\n",
    "    pip install apriori\n",
    "\n",
    "You may need to restart IPython for the new package to show up.\n",
    "\n",
    "Once you've installed apriori, then import it in the standard way."
   ]
  },
  {
   "cell_type": "code",
   "execution_count": 1,
   "metadata": {},
   "outputs": [],
   "source": [
    "import apriori"
   ]
  },
  {
   "cell_type": "markdown",
   "metadata": {},
   "source": [
    "## Association Analysis with apriori\n",
    "We'll use the \"groceries.csv\" file that you should have downloaded with this IPython script. We'll set the minimum confidence level to .05."
   ]
  },
  {
   "cell_type": "code",
   "execution_count": 2,
   "metadata": {},
   "outputs": [],
   "source": [
    "item_supports, rules = apriori.run_apriori(\"groceries.csv\", min_confidence=0.05)"
   ]
  },
  {
   "cell_type": "markdown",
   "metadata": {},
   "source": [
    "### Support\n",
    "We can check the five items with the highest levels of support in the transaction dataset."
   ]
  },
  {
   "cell_type": "code",
   "execution_count": 3,
   "metadata": {},
   "outputs": [
    {
     "name": "stdout",
     "output_type": "stream",
     "text": [
      "whole milk - 0.26\n",
      "other vegetables - 0.19\n",
      "rolls/buns - 0.18\n",
      "soda - 0.17\n",
      "yogurt - 0.14\n"
     ]
    }
   ],
   "source": [
    "for items, support in item_supports[: 5]:\n",
    "    print(\"{0} - {1:.2f}\".format(\", \".join(items), support))"
   ]
  },
  {
   "cell_type": "markdown",
   "metadata": {},
   "source": [
    "The line means that whole milk appears in 26% of the transactions in this dataset.\n",
    "### Confidence\n",
    "We can also check the five items with the highest levels of confidence."
   ]
  },
  {
   "cell_type": "code",
   "execution_count": 4,
   "metadata": {},
   "outputs": [
    {
     "name": "stdout",
     "output_type": "stream",
     "text": [
      "yogurt => whole milk - 0.40\n",
      "other vegetables => whole milk - 0.39\n",
      "rolls/buns => whole milk - 0.31\n",
      "whole milk => other vegetables - 0.29\n",
      "whole milk => rolls/buns - 0.22\n"
     ]
    }
   ],
   "source": [
    "for items, rule in rules[: 5]:\n",
    "    print(\"{0} => {1} - {2:.2f}\".format(\", \".join(items[0]), \", \".join(items[1]), rule))"
   ]
  },
  {
   "cell_type": "markdown",
   "metadata": {},
   "source": [
    "The first line means that of all the baskets with yogurt, 40% also contained whole milk."
   ]
  },
  {
   "cell_type": "code",
   "execution_count": null,
   "metadata": {},
   "outputs": [],
   "source": []
  }
 ],
 "metadata": {
  "kernelspec": {
   "display_name": "Python 3",
   "language": "python",
   "name": "python3"
  },
  "language_info": {
   "codemirror_mode": {
    "name": "ipython",
    "version": 3
   },
   "file_extension": ".py",
   "mimetype": "text/x-python",
   "name": "python",
   "nbconvert_exporter": "python",
   "pygments_lexer": "ipython3",
   "version": "3.5.5"
  }
 },
 "nbformat": 4,
 "nbformat_minor": 1
}
